{
 "cells": [
  {
   "cell_type": "markdown",
   "metadata": {},
   "source": [
    "# Task 1: \n"
   ]
  },
  {
   "cell_type": "code",
   "execution_count": null,
   "metadata": {},
   "outputs": [],
   "source": [
    "import os\n",
    "#os.curdir()\n",
    "os.curdir()"
   ]
  },
  {
   "cell_type": "markdown",
   "metadata": {},
   "source": [
    "1. Install Jupyter notebook and run the first program and share the screenshot of the output"
   ]
  },
  {
   "cell_type": "markdown",
   "metadata": {},
   "source": [
    "## Installing on Windows\n",
    "\n",
    "1. [Download the Anaconda installer](https://www.continuum.io/downloads).\n",
    "\n",
    "2. Optional: Verify data integrity with MD5 or SHA-256. More info on hashes\n",
    "\n",
    "3. Double click the installer to launch.\n",
    "\n",
    "  NOTE: If you encounter any issues during installation, temporarily disable your anti-virus software during install, then re-enable it after the installation concludes. If you have installed for all users, uninstall Anaconda and re-install it for your user only and try again.\n",
    "\n",
    "4. Click Next.\n",
    "\n",
    "5. Read the licensing terms and click I Agree.\n",
    "\n",
    "6. Select an install for “Just Me” unless you’re installing for all users (which requires Windows Administrator privileges).\n",
    "\n",
    "7. Select a destination folder to install Anaconda and click Next.\n",
    "\n",
    "  NOTE: Install Anaconda to a directory path that does not contain spaces or unicode characters.\n",
    "\n",
    "  NOTE: Do not install as Administrator unless admin privileges are required.\n",
    "\n",
    "8. Choose whether to add Anaconda to your PATH environment variable. We recommend not adding Anaconda to the PATH environment variable, since this can interfere with other software. Instead, use Anaconda software by opening Anaconda Navigator or the Anaconda Command Prompt from the Start Menu.\n",
    "\n",
    "9. Choose whether to register Anaconda as your default Python 3.6. Unless you plan on installing and running multiple versions of Anaconda, or multiple versions of Python, you should accept the default and leave this box checked.\n",
    "\n",
    "10. Click Install. You can click Show Details if you want to see all the packages Anaconda is installing.\n",
    "\n",
    "11. Click Next.\n",
    "\n",
    "12. After a successful installation you will see the “Thanks for installing Anaconda” image:\n",
    " <img src=\"Images/anaconda-install-win.png\">\n",
    " \n",
    "13. You can leave the boxes checked “Learn more about Anaconda Cloud” and “Learn more about Anaconda Support” if you wish to read more about this cloud package management service and Anaconda support. Click Finish.\n",
    "\n",
    "14. After your install is complete, verify it by opening Anaconda Navigator, a program that is included with Anaconda. From your Windows Start menu, select the shortcut Anaconda Navigator. If Navigator opens, you have successfully installed Anaconda."
   ]
  },
  {
   "cell_type": "markdown",
   "metadata": {},
   "source": [
    "## Installing on macOS\n",
    "1. Download the [graphical macOS installer](https://www.continuum.io/downloads#macos) for your version of Python.\n",
    "\n",
    "2. OPTIONAL: Verify data integrity with MD5 or SHA-256. For more information on hashes, see What about cryptographic hash verification?.\n",
    "\n",
    "3. Double-click the .pkg file.\n",
    "\n",
    "4. Answer the prompts on the Introduction, Read Me and License screens.\n",
    "\n",
    "5. On the Destination Select screen, select Install for me only.\n",
    "\n",
    " NOTE: If you get the error message “You cannot install Anaconda in this location,” reselect Install for me only.\n",
    " <img src=\"Images/osxbug2.png\">\n",
    "\n",
    "6. On the Installation Type screen, you may choose to install in another location. The standard install puts Anaconda in your home user directory:\n",
    " <img src=\"Images/customizebutton.png\">\n",
    "\n",
    "7. Click the Install button.\n",
    "\n",
    "8. A successful installation displays the following screen:\n",
    " <img src=\"Images/anaconda-install-osx.png\">\n"
   ]
  },
  {
   "cell_type": "markdown",
   "metadata": {},
   "source": [
    "## Installing on Linux\n",
    "\n",
    "1. In your browser, download the Anaconda installer for Linux.\n",
    "\n",
    "2. Optional: Verify data integrity with MD5 or SHA-256. (For more information on hashes, see cryptographic hash validation.)\n",
    "\n",
    "    Run the following:\n",
    "\n",
    "    __md5sum /path/filename__\n",
    "    OR:\n",
    "\n",
    "    __sha256sum /path/filename__\n",
    "3. Verify results against the proper hash page to make sure the hashes match.\n",
    "\n",
    "4. Enter the following to install Anaconda for Python 3.6:\n",
    "\n",
    " __bash ~/Downloads/Anaconda3-4.4.0-Linux-x86_64.sh__\n",
    " OR\n",
    "\n",
    " Enter the following to install Anaconda for Python 2.7:\n",
    "\n",
    " __bash ~/Downloads/Anaconda2-4.4.0-Linux-x86_64.sh__\n",
    " NOTE: You should include the bash command regardless of whether you are using Bash shell.\n",
    "\n",
    " NOTE: Replace actual download path and filename as necessary.\n",
    "\n",
    " NOTE: Install Anaconda as a user unless root privileges are required.\n",
    "\n",
    "5. The installer prompts “In order to continue the installation process, please review the license agreement.” Click Enter to view license terms.\n",
    "\n",
    "6. Scroll to the bottom of the license terms and enter yes to agree to them.\n",
    "\n",
    "7. The installer prompts you to click Enter to accept the default install location, press CTRL-C to cancel the installation, or specify an alternate installation directory. If you accept the default install location, the installer displays __'PREFIX=/home/\"user\"/anaconda\"2 or 3\"' and continues the installation. It may take a few minutes to complete.__\n",
    "\n",
    "   The installer prompts “Do you wish the installer to prepend the Anaconda\"2 or 3\" install location to PATH in your /home/\"user\"/.bashrc ?” We recommend yes.\n",
    "\n",
    " NOTE: If you enter “no”, you will need to manually specify the path to Anaconda when using Anaconda. To manually add the prepended path, edit file .bashrc to add ~/anaconda\"2 or 3\"/bin to your path manually using:\n",
    "\n",
    "8. __export PATH=\"/home/\"user\"/anaconda\"2 or 3\"/bin:$PATH\"__\n",
    " Replace /home/\"user\"/anaconda\"2 or 3\" with the actual path.\n",
    "\n",
    "9. The installer finishes and displays “Thank you for installing Anaconda\"2 or 3\"!”\n",
    "\n",
    "10. Close and open your terminal window for the installation to take effect, or you can enter the command source ~/.bashrc.\n",
    "\n",
    "  Enter conda list. If the installation was successful, the terminal window should display a list of installed Anaconda packages.\n",
    "\n",
    "  NOTE: Power8 users: Navigate to your Anaconda directory and run this command:\n",
    "\n",
    " __conda install libgfortran__"
   ]
  },
  {
   "cell_type": "code",
   "execution_count": 8,
   "metadata": {},
   "outputs": [
    {
     "name": "stdout",
     "output_type": "stream",
     "text": [
      "Hello World!!!\n"
     ]
    }
   ],
   "source": [
    "print(\"Hello World!!!\")"
   ]
  },
  {
   "cell_type": "markdown",
   "metadata": {},
   "source": [
    "2.Write a program which will find all such numbers which are divisible by 7 but are not a multiple of 5, between 2000 and 3200 (both included). The numbers obtained should be printed in a comma-separated sequence on a single line."
   ]
  },
  {
   "cell_type": "code",
   "execution_count": 7,
   "metadata": {
    "scrolled": true
   },
   "outputs": [
    {
     "name": "stdout",
     "output_type": "stream",
     "text": [
      "2002, 2009, 2016, 2023, 2037, 2044, 2051, 2058, 2072, 2079, 2086, 2093, 2107, 2114, 2121, 2128, 2142, 2149, 2156, 2163, 2177, 2184, 2191, 2198, 2212, 2219, 2226, 2233, 2247, 2254, 2261, 2268, 2282, 2289, 2296, 2303, 2317, 2324, 2331, 2338, 2352, 2359, 2366, 2373, 2387, 2394, 2401, 2408, 2422, 2429, 2436, 2443, 2457, 2464, 2471, 2478, 2492, 2499, 2506, 2513, 2527, 2534, 2541, 2548, 2562, 2569, 2576, 2583, 2597, 2604, 2611, 2618, 2632, 2639, 2646, 2653, 2667, 2674, 2681, 2688, 2702, 2709, 2716, 2723, 2737, 2744, 2751, 2758, 2772, 2779, 2786, 2793, 2807, 2814, 2821, 2828, 2842, 2849, 2856, 2863, 2877, 2884, 2891, 2898, 2912, 2919, 2926, 2933, 2947, 2954, 2961, 2968, 2982, 2989, 2996, 3003, 3017, 3024, 3031, 3038, 3052, 3059, 3066, 3073, 3087, 3094, 3101, 3108, 3122, 3129, 3136, 3143, 3157, 3164, 3171, 3178, 3192, 3199\n"
     ]
    }
   ],
   "source": [
    "MinNo= 2000\n",
    "MaxNo=3200\n",
    "TotalNo=[]\n",
    "for i in range(MinNo,MaxNo+1):\n",
    "    if(i%7==0 and i%5 != 0):\n",
    "        TotalNo.append(str(i))            \n",
    "print(', '.join(TotalNo))"
   ]
  },
  {
   "cell_type": "markdown",
   "metadata": {},
   "source": [
    "3. Write a Python program to accept the user's first and last name and then getting them printed in the the reverse order with a space between first name and last name. "
   ]
  },
  {
   "cell_type": "code",
   "execution_count": 2,
   "metadata": {},
   "outputs": [
    {
     "name": "stdout",
     "output_type": "stream",
     "text": [
      " Enter First Name:Rohit\n",
      " Enter Second Name:Kumar\n",
      "Kumar Rohit\n"
     ]
    }
   ],
   "source": [
    "FirstName=str(input(' Enter First Name:'))\n",
    "SecondName=str(input(' Enter Second Name:'))\n",
    "print(SecondName + \" \" + FirstName)"
   ]
  },
  {
   "cell_type": "markdown",
   "metadata": {},
   "source": [
    "4. Write a Python program to find the volume of a sphere with diameter 12 cm.   \n",
    "Formula: V=4/3 * π * r 3 "
   ]
  },
  {
   "cell_type": "code",
   "execution_count": 7,
   "metadata": {},
   "outputs": [
    {
     "name": "stdout",
     "output_type": "stream",
     "text": [
      "7238.223359999999\n"
     ]
    }
   ],
   "source": [
    "pi=3.14159\n",
    "r=12\n",
    "print(((4/3)*(pi)*(r**3)))    "
   ]
  },
  {
   "cell_type": "markdown",
   "metadata": {},
   "source": [
    "# Task 2: \n",
    "1. Write a program which accepts a sequence of comma-separated numbers from console and generate a list. "
   ]
  },
  {
   "cell_type": "code",
   "execution_count": 4,
   "metadata": {},
   "outputs": [
    {
     "name": "stdout",
     "output_type": "stream",
     "text": [
      "Enter Comma seperated Number:25,45,78\n",
      "['25', '45', '78']\n"
     ]
    }
   ],
   "source": [
    "Numbers=(input('Enter Comma seperated Number:'))\n",
    "l=Numbers.split(\",\")\n",
    "lst=list(l)\n",
    "print(lst)"
   ]
  },
  {
   "cell_type": "raw",
   "metadata": {},
   "source": [
    "2. Create the below pattern using nested for loop in Python.   \n",
    "*  \n",
    "* *  \n",
    "* * *  \n",
    "* * * *  \n",
    "* * * * *  \n",
    "* * * *  \n",
    "* * *  \n",
    "* *  \n",
    "* "
   ]
  },
  {
   "cell_type": "code",
   "execution_count": 4,
   "metadata": {},
   "outputs": [
    {
     "name": "stdout",
     "output_type": "stream",
     "text": [
      "\r\n",
      "* \r\n",
      "* * \r\n",
      "* * * \r\n",
      "* * * * \r\n",
      "* * * * * \r\n",
      "* * * * \r\n",
      "* * * \r\n",
      "* * \r\n",
      "* \r\n"
     ]
    }
   ],
   "source": [
    "num = 5\n",
    "for i in range(0,rows):\n",
    "    for j in range(0, i):\n",
    "        print(\"*\", end=' ')\n",
    "    print(\"\\r\")    \n",
    "for i in range(rows, 0, -1):\n",
    "    for j in range(0, i):\n",
    "        print(\"*\", end=' ')\n",
    "    print(\"\\r\")"
   ]
  },
  {
   "cell_type": "markdown",
   "metadata": {},
   "source": [
    "3. Write a Python program to reverse a word after accepting the input from the user. "
   ]
  },
  {
   "cell_type": "code",
   "execution_count": 4,
   "metadata": {},
   "outputs": [
    {
     "name": "stdout",
     "output_type": "stream",
     "text": [
      "Enter a Word: Sadhana\n",
      "anahdaS\n"
     ]
    }
   ],
   "source": [
    "strWord =(input('Enter a Word: '))\n",
    "print(strWord[::-1])"
   ]
  },
  {
   "cell_type": "markdown",
   "metadata": {},
   "source": [
    "4. Write a Python Program to print the given string in the format specified in the ​sample output.  WE, THE PEOPLE OF INDIA, having solemnly resolved to constitute India into a SOVEREIGN, SOCIALIST, SECULAR, DEMOCRATIC REPUBLIC and to secure to all its citizens  \n",
    "Sample Output:  \n",
    "WE, THE PEOPLE OF INDIA,\n",
    "    having solemnly resolved to constitute India into a SOVEREIGN, !  \n",
    "        SOCIALIST, SECULAR, DEMOCRATIC REPUBLIC    \n",
    "            and to secure to all its citizens "
   ]
  },
  {
   "cell_type": "code",
   "execution_count": 5,
   "metadata": {},
   "outputs": [
    {
     "name": "stdout",
     "output_type": "stream",
     "text": [
      "WE, THE PEOPLE OF INDIA,\n",
      "\thaving solemnly resolved to constitute India into a SOVEREIGN,! \n",
      "\t\tSOCIALIST, SECULAR, DEMOCRATIC REPUBLIC \n",
      "\t\t and to secure to all its citizens\n"
     ]
    }
   ],
   "source": [
    "str = \"WE, THE PEOPLE OF INDIA,\\n\\thaving solemnly resolved to constitute India into a SOVEREIGN,! \\n\\t\\tSOCIALIST, SECULAR, DEMOCRATIC REPUBLIC \\n\\t\\t and to secure to all its citizens\"\n",
    "print(str)"
   ]
  }
 ],
 "metadata": {
  "kernelspec": {
   "display_name": "Python 3",
   "language": "python",
   "name": "python3"
  }
 },
 "nbformat": 4,
 "nbformat_minor": 2
}
